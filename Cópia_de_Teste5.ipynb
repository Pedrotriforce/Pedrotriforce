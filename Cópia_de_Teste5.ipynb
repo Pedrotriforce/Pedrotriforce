{
  "nbformat": 4,
  "nbformat_minor": 0,
  "metadata": {
    "colab": {
      "provenance": []
    },
    "kernelspec": {
      "name": "python3",
      "display_name": "Python 3"
    },
    "language_info": {
      "name": "python"
    }
  },
  "cells": [
    {
      "cell_type": "code",
      "execution_count": 2,
      "metadata": {
        "colab": {
          "base_uri": "https://localhost:8080/"
        },
        "id": "Uz9sWd4JE3oH",
        "outputId": "ad88805c-6127-40eb-e495-38c90c31c07a"
      },
      "outputs": [
        {
          "output_type": "stream",
          "name": "stdout",
          "text": [
            "String original: DRACULA\n",
            "String invertida: ALUCARD\n"
          ]
        }
      ],
      "source": [
        "# Função para inverter uma string\n",
        "def inverter_string(string):\n",
        "    # Inicializa uma string vazia para armazenar o resultado da inversão\n",
        "    string_invertida = \"\"\n",
        "\n",
        "    # Percorre a string de trás para frente e concatena os caracteres na string invertida\n",
        "    for i in range(len(string) - 1, -1, -1):\n",
        "        string_invertida += string[i]\n",
        "\n",
        "    # Retorna a string invertida\n",
        "    return string_invertida\n",
        "\n",
        "# String a ser invertida (pode ser informada através de entrada de usuário ou previamente definida no código)\n",
        "string_original = \"DRACULA\"\n",
        "\n",
        "# Inverte a string e imprime o resultado\n",
        "print(\"String original:\", string_original)\n",
        "print(\"String invertida:\", inverter_string(string_original))\n"
      ]
    }
  ]
}