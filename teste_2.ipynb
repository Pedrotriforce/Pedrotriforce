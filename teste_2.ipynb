{
  "nbformat": 4,
  "nbformat_minor": 0,
  "metadata": {
    "colab": {
      "provenance": []
    },
    "kernelspec": {
      "name": "python3",
      "display_name": "Python 3"
    },
    "language_info": {
      "name": "python"
    }
  },
  "cells": [
    {
      "cell_type": "code",
      "execution_count": null,
      "metadata": {
        "colab": {
          "base_uri": "https://localhost:8080/"
        },
        "id": "Uz9sWd4JE3oH",
        "outputId": "4e68869f-f1e2-405c-9589-98b9375d9c81"
      },
      "outputs": [
        {
          "output_type": "stream",
          "name": "stdout",
          "text": [
            "Digite o número que deseja verificar se pertence à sequência de Fibonacci: 64\n",
            "O número 64 não pertence à sequência de Fibonacci.\n"
          ]
        }
      ],
      "source": [
        "# Função para verificar se um número pertence à sequência de Fibonacci\n",
        "def verifica_fibonacci(numero):\n",
        "    # Inicialização dos primeiros dois números da sequência\n",
        "    a, b = 0, 1\n",
        "\n",
        "    # Caso especial para verificar se o número é 0 ou 1\n",
        "    if numero == 0 or numero == 1:\n",
        "        return True\n",
        "\n",
        "    # Enquanto o próximo número na sequência for menor ou igual ao número fornecido\n",
        "    while b <= numero:\n",
        "        # Se o próximo número for igual ao número fornecido, ele pertence à sequência\n",
        "        if b == numero:\n",
        "            return True\n",
        "\n",
        "        # Calcula o próximo número da sequência\n",
        "        a, b = b, a + b\n",
        "\n",
        "    # Se o número fornecido não foi encontrado na sequência\n",
        "    return False\n",
        "\n",
        "# Número a ser verificado (pode ser informado através de entrada de usuário ou previamente definido no código)\n",
        "numero_verificar = int(input(\"Digite o número que deseja verificar se pertence à sequência de Fibonacci: \"))\n",
        "\n",
        "# Verifica se o número pertence à sequência de Fibonacci e imprime uma mensagem correspondente\n",
        "if verifica_fibonacci(numero_verificar):\n",
        "    print(\"O número\", numero_verificar, \"pertence à sequência de Fibonacci.\")\n",
        "else:\n",
        "    print(\"O número\", numero_verificar, \"não pertence à sequência de Fibonacci.\")\n"
      ]
    }
  ]
}